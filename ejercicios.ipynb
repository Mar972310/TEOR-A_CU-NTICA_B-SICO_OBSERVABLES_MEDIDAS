{
 "cells": [
  {
   "cell_type": "code",
   "execution_count": 13,
   "metadata": {},
   "outputs": [
    {
     "name": "stdout",
     "output_type": "stream",
     "text": [
      "12.0\n",
      "Probabilidad en la posición 1: 0.1666666666666667\n"
     ]
    }
   ],
   "source": [
    "import numpy as np\n",
    "import cmath\n",
    "import math\n",
    "\n",
    "def isComplex(n):\n",
    "    return isinstance(n, complex)\n",
    "\n",
    "def module_complex(n):\n",
    "    return (n.real ** 2 + n.imag ** 2)\n",
    "\n",
    "def normalizer_vector(v):\n",
    "    sum_norma = 0\n",
    "    for i in v:\n",
    "        if isComplex(i):\n",
    "            sum_norma += module_complex(i)\n",
    "        else:\n",
    "            sum_norma += i ** 2\n",
    "\n",
    "    raiz = math.sqrt(sum_norma) \n",
    "    print(sum_norma)\n",
    "    for i in range(len(v)):\n",
    "        v[i] = v[i] / raiz\n",
    "    return v\n",
    "\n",
    "def probability(v, position):\n",
    "    v = normalizer_vector(v)  \n",
    "    if isComplex(v[position]):\n",
    "        print(f\"Probabilidad en la posición {position}: {module_complex(v[position])}\")\n",
    "    else:\n",
    "        print(f\"Probabilidad en la posición {position}: {v[position] ** 2}\")\n",
    "\n",
    "v = [2 + 1j, 1 - 1j, -1 + 2j]  \n",
    "p = 1  \n",
    "probability(v, p)\n",
    "\n"
   ]
  },
  {
   "cell_type": "markdown",
   "metadata": {},
   "source": [
    "2. El sistema si se le da otro vector Ket debe buscar la probabilidad de transitar del primer vector al segundo."
   ]
  },
  {
   "cell_type": "code",
   "execution_count": 15,
   "metadata": {},
   "outputs": [
    {
     "name": "stdout",
     "output_type": "stream",
     "text": [
      "Probabilidad de transición de v a : 0.6276\n"
     ]
    }
   ],
   "source": [
    "import numpy as np\n",
    "\n",
    "def normalizar_vector_numpy(v):\n",
    "    v = np.array(v)\n",
    "    magnitud = np.linalg.norm(v)\n",
    "    return v / magnitud\n",
    "\n",
    "def probabilidad_transicion(v, w):\n",
    "    v_normalizado = normalizar_vector_numpy(v)\n",
    "    w_normalizado = normalizar_vector_numpy(w)\n",
    "    producto_interno = np.vdot(w_normalizado, v_normalizado)  \n",
    "    probabilidad = np.abs(producto_interno)**2 \n",
    "    return probabilidad\n",
    "\n",
    "\n",
    "v = [4 + 1j, 1 - 1j, 1 + 2j]  \n",
    "w = [1 + 2j, 3 - 1j, 1 + 4j]  \n",
    "\n",
    "\n",
    "probabilidad = probabilidad_transicion(v,w )\n",
    "print(f\"Probabilidad de transición de v a : {probabilidad:.4f}\")\n"
   ]
  }
 ],
 "metadata": {
  "kernelspec": {
   "display_name": ".venv",
   "language": "python",
   "name": "python3"
  },
  "language_info": {
   "codemirror_mode": {
    "name": "ipython",
    "version": 3
   },
   "file_extension": ".py",
   "mimetype": "text/x-python",
   "name": "python",
   "nbconvert_exporter": "python",
   "pygments_lexer": "ipython3",
   "version": "3.12.5"
  }
 },
 "nbformat": 4,
 "nbformat_minor": 2
}
