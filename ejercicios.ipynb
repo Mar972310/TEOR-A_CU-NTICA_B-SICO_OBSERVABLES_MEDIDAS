{
 "cells": [
  {
   "cell_type": "markdown",
   "metadata": {},
   "source": [
    "<h1 style=\"text-align: center;\"><strong><em>Solución de los Ejercicios</em></strong></h1>\n",
    "<h2 style=\"text-align: center;\"><em>Simulación del Sistema cuántico descrito en la sección 4.1</em></h2>\n",
    "\n",
    "<h3>El sistema consiste en una partícula confinada a un conjunto discreto de posiciones en una línea. El simulador debe permitir especificar el número de posiciones y un vector ket de estado asignando las amplitudes.</h3>"
   ]
  },
  {
   "cell_type": "markdown",
   "metadata": {},
   "source": [
    "<h4>1. El sistema debe calcular la probabilidad de encontrarlo en una posición en particular.</h4>"
   ]
  },
  {
   "cell_type": "code",
   "execution_count": 21,
   "metadata": {},
   "outputs": [
    {
     "name": "stdout",
     "output_type": "stream",
     "text": [
      "0.25\n",
      "0.19999999999999998\n",
      "0.1\n",
      "0.049999999999999996\n",
      "0.19999999999999998\n",
      "0.19999999999999998\n"
     ]
    }
   ],
   "source": [
    "import numpy as np\n",
    "\n",
    "def normalize_vector(v):\n",
    "    norm = np.linalg.norm(v)\n",
    "    if(norm == 1):\n",
    "        return v\n",
    "    else:\n",
    "        v = v / norm\n",
    "    return v\n",
    "\n",
    "def probability_in_Xposition(X,v):\n",
    "    v = normalize_vector(v)\n",
    "    Px = np.abs(v[X][0]) ** 2\n",
    "    return  Px\n",
    "\n",
    "v = np.array([[2-1j],[2j],[1-1j],[1],[-2j],[2]])\n",
    "\n",
    "print(probability_in_Xposition(0,v))\n",
    "print(probability_in_Xposition(1,v))\n",
    "print(probability_in_Xposition(2,v))\n",
    "print(probability_in_Xposition(3,v))\n",
    "print(probability_in_Xposition(4,v))\n",
    "print(probability_in_Xposition(5,v))"
   ]
  },
  {
   "cell_type": "markdown",
   "metadata": {},
   "source": [
    "<h4>2. El sistema si se le da otro vector Ket debe buscar la probabilidad de transitar del primer vector al segundo.</h4>"
   ]
  },
  {
   "cell_type": "code",
   "execution_count": 72,
   "metadata": {},
   "outputs": [
    {
     "name": "stdout",
     "output_type": "stream",
     "text": [
      "La probabilidad de transición de\n",
      " v =  2.0 + i   \n",
      "      -1.0 + 2.0i\n",
      "             i   \n",
      "       1.0       \n",
      "      3.0 - i   \n",
      "       2.0       \n",
      "            -2.0i\n",
      "      -2.0 + i   \n",
      "       1.0 - 3.0i\n",
      "             i   \n",
      "\n",
      " w =  -1.0 - 4.0i\n",
      "       2.0 - 3.0i\n",
      "      -7.0 + 6.0i\n",
      "      -1.0 + i   \n",
      "      -5.0 - 3.0i\n",
      "       5.0       \n",
      "       5.0 + 8.0i\n",
      "       4.0 - 4.0i\n",
      "       8.0 - 7.0i\n",
      "       2.0 - 7.0i\n",
      "\n",
      " es:  0.017372523241618944\n"
     ]
    }
   ],
   "source": [
    "import numpy as np\n",
    "\n",
    "\n",
    "import numpy as np\n",
    "\n",
    "def format_complex(c):\n",
    "    if (c.imag == 1 or c.imag == -1):\n",
    "        if(c.real == 0):\n",
    "            return f\"{'       '}i{'   '}\" \n",
    "        else:\n",
    "            return f\"{c.real}{' + ' if c.imag >= 0 else ' - '}i{'   '}\"\n",
    "    if (c.imag == 0):\n",
    "        return f\"{'' if c.real < 0 else ' '}{c.real}{'       '}\"\n",
    "    elif(c.real == 0):\n",
    "        if (c.imag < 0):\n",
    "            return f\"{'      '}{c.imag}i\"\n",
    "        else:\n",
    "            return f\"{'        '}{c.imag}i\"\n",
    "    return f\"{'' if c.real < 0 else ' '}{c.real}{' + ' if c.imag >= 0 else ' - '}{abs(c.imag)}i\"\n",
    "\n",
    "def format_printed(a,b,c):\n",
    "    print(\"La probabilidad de transición de\")\n",
    "    m = 0\n",
    "    for i in a:\n",
    "        if (m > 0):\n",
    "            m += 1\n",
    "            print(\"     \", '  '.join(format_complex(x) for x in i) )\n",
    "        else:\n",
    "            m += 1\n",
    "            print(\" v = \", '  '.join(format_complex(x) for x in i))\n",
    "    print()\n",
    "    m = 0\n",
    "    for i in b:\n",
    "        if (m > 0):\n",
    "            m += 1\n",
    "            print (\"     \", '  '.join(format_complex(x) for x in i) )\n",
    "        else:\n",
    "            m += 1\n",
    "            print(\" w = \", '  '.join(format_complex(x) for x in i))\n",
    "    print()\n",
    "    print(\" es: \", c)\n",
    "    \n",
    "\n",
    "def normalize_vector(v):\n",
    "    norm = np.linalg.norm(v)\n",
    "    if(norm == 1):\n",
    "        \n",
    "        return v\n",
    "    else:\n",
    "        v = v / norm\n",
    "    return v\n",
    "\n",
    "def bra_vector(v):\n",
    "    bra = np.conjugate(v)\n",
    "    return bra\n",
    "\n",
    "def amplitude_transition(w, v):\n",
    "    #Toca hacer el conjugado de w, ya que la función vdot lo hace antes de operar \n",
    "    # y si lo dejo sin el conjugado haria nada mas dos veces el conjugado y no etaria \n",
    "    # usando bien la formula de amplitud, podria no calcular el conjugado en en el bra \n",
    "    amplitude = np.vdot(np.conjugate(w),v)\n",
    "    return amplitude\n",
    "\n",
    "def probabilidad_transicion(v, w):\n",
    "    #Paso 1 --> Normalizar vectores\n",
    "    v_n = normalize_vector(v)\n",
    "    w_n = normalize_vector(w)\n",
    "\n",
    "    #Paso 2 --> Calcular el Bra del vector de destino\n",
    "    braW = bra_vector(w_n)\n",
    "\n",
    "    #Paso 3 --> Calculo la amplitud de transicion de los vectores\n",
    "    amplitudeTransition = amplitude_transition(braW,v_n)\n",
    "\n",
    "    #Paso 4 --> Calcular la probabilidad\n",
    "    probability = np.abs(amplitudeTransition) ** 2\n",
    "\n",
    "    format_printed(v,w,probability)\n",
    "\n",
    "    return probability\n",
    "\n",
    "v = np.array([[ 2 + 1j], [-1 + 2j], [1j], [1],[3 - 1j],[2],[-2j],[-2 + 1j],[1 - 3j],[ -1j ]])\n",
    "w = np.array([[-1 - 4j], [2 - 3j], [-7 + 6j], [-1 + 1j], [-5 -3j], [5], [5 + 8j], [4 -4j], [8 - 7j], [2 - 7j]])  \n",
    "\n",
    "probabilidad = probabilidad_transicion(v,w )\n",
    "\n",
    "\n",
    "\n"
   ]
  },
  {
   "cell_type": "markdown",
   "metadata": {},
   "source": [
    "<h2 style=\"text-align: center;\"><em>Complete los retos de programación del capítulo 4</em></h2>"
   ]
  }
 ],
 "metadata": {
  "kernelspec": {
   "display_name": ".venv",
   "language": "python",
   "name": "python3"
  },
  "language_info": {
   "codemirror_mode": {
    "name": "ipython",
    "version": 3
   },
   "file_extension": ".py",
   "mimetype": "text/x-python",
   "name": "python",
   "nbconvert_exporter": "python",
   "pygments_lexer": "ipython3",
   "version": "3.12.5"
  }
 },
 "nbformat": 4,
 "nbformat_minor": 2
}
